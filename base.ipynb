{
 "cells": [
  {
   "cell_type": "markdown",
   "id": "0191130d",
   "metadata": {},
   "source": [
    "# завантаження даних і відкриття"
   ]
  },
  {
   "cell_type": "code",
   "execution_count": 1,
   "id": "c2356a4f",
   "metadata": {},
   "outputs": [],
   "source": [
    "import os\n",
    "\n",
    "os.environ[\"PYTHONUNBUFFERED\"] = \"1\"\n",
    "os.environ[\"JAVA_HOME\"] = \"/opt/homebrew/opt/openjdk@17\"\n",
    "os.environ[\"SPARK_HOME\"] = \"/opt/homebrew/Cellar/apache-spark/4.0.0/libexec\"\n",
    "os.environ[\"PATH\"] = os.environ[\"JAVA_HOME\"] + \"/bin:\" + os.environ[\"SPARK_HOME\"] + \"/bin:\" + os.environ[\"PATH\"]"
   ]
  },
  {
   "cell_type": "code",
   "execution_count": 2,
   "id": "a544a2e6",
   "metadata": {},
   "outputs": [
    {
     "data": {
      "text/plain": [
       "'/opt/homebrew/opt/openjdk@17/bin:/opt/homebrew/Cellar/apache-spark/4.0.0/libexec/bin:/Users/aleksejkitajskij/Library/Mobile Documents/com~apple~CloudDocs/Programing/GoIT_projects/data enginner/goit_spark/venv/bin:/Users/aleksejkitajskij/Desktop/goit_spark/venv/bin:/usr/bin:/bin:/usr/sbin:/sbin:/usr/local/bin'"
      ]
     },
     "execution_count": 2,
     "metadata": {},
     "output_type": "execute_result"
    }
   ],
   "source": [
    "os.environ[\"PATH\"]"
   ]
  },
  {
   "cell_type": "code",
   "execution_count": 3,
   "id": "ca66f649",
   "metadata": {},
   "outputs": [],
   "source": [
    "from pyspark.sql import SparkSession\n",
    "from pyspark.sql.functions import col, count, min, max, avg, unix_timestamp, count_if, round, when\n",
    "from pyspark.sql.types import TimestampType, IntegerType"
   ]
  },
  {
   "cell_type": "code",
   "execution_count": 4,
   "id": "cdab0432",
   "metadata": {},
   "outputs": [
    {
     "name": "stderr",
     "output_type": "stream",
     "text": [
      "WARNING: Using incubator modules: jdk.incubator.vector\n",
      "Using Spark's default log4j profile: org/apache/spark/log4j2-defaults.properties\n",
      "25/08/16 11:23:18 WARN Utils: Your hostname, Aleksejs-MacBook-Air.local, resolves to a loopback address: 127.0.0.1; using 192.168.0.226 instead (on interface en0)\n",
      "25/08/16 11:23:18 WARN Utils: Set SPARK_LOCAL_IP if you need to bind to another address\n",
      "Using Spark's default log4j profile: org/apache/spark/log4j2-defaults.properties\n",
      "Setting default log level to \"WARN\".\n",
      "To adjust logging level use sc.setLogLevel(newLevel). For SparkR, use setLogLevel(newLevel).\n",
      "25/08/16 11:23:19 WARN NativeCodeLoader: Unable to load native-hadoop library for your platform... using builtin-java classes where applicable\n",
      "25/08/16 11:23:19 WARN Utils: Service 'SparkUI' could not bind on port 4040. Attempting port 4041.\n",
      "25/08/16 11:23:19 WARN Utils: Service 'SparkUI' could not bind on port 4041. Attempting port 4042.\n"
     ]
    }
   ],
   "source": [
    "# Створюємо сесію Spark\n",
    "spark = SparkSession.builder.appName(\"MyGoitSparkSandbox\").getOrCreate()"
   ]
  },
  {
   "cell_type": "code",
   "execution_count": 5,
   "id": "776683ab",
   "metadata": {},
   "outputs": [],
   "source": [
    "# Завантажуємо датасет\n",
    "nuek_df = spark.read.csv('data/nuek-vuh3.csv', header=True)"
   ]
  },
  {
   "cell_type": "code",
   "execution_count": 6,
   "id": "51e82d6e",
   "metadata": {},
   "outputs": [
    {
     "name": "stdout",
     "output_type": "stream",
     "text": [
      "+-----------+-------+---------------+----------------+--------------------+--------------------+--------------------+--------------------+--------------------+--------------------+--------------------+--------------+-------------+----------------------+--------------------+--------------------+----+-------------------+---------+------------+----+-----------------+--------+--------------+--------+---------------+----------------+---------+------------------------------+------------------------+-------------------+---------------------------------+-------------+--------------------+--------------------+--------------------+---------------------------+\n",
      "|call_number|unit_id|incident_number|       call_type|           call_date|          watch_date|       received_dttm|          entry_dttm|       dispatch_dttm|       response_dttm|       on_scene_dttm|transport_dttm|hospital_dttm|call_final_disposition|      available_dttm|             address|city|zipcode_of_incident|battalion|station_area| box|original_priority|priority|final_priority|als_unit|call_type_group|number_of_alarms|unit_type|unit_sequence_in_call_dispatch|fire_prevention_district|supervisor_district|neighborhoods_analysis_boundaries|        rowid|       case_location|          data_as_of|      data_loaded_at|:@computed_region_ajp5_b2md|\n",
      "+-----------+-------+---------------+----------------+--------------------+--------------------+--------------------+--------------------+--------------------+--------------------+--------------------+--------------+-------------+----------------------+--------------------+--------------------+----+-------------------+---------+------------+----+-----------------+--------+--------------+--------+---------------+----------------+---------+------------------------------+------------------------+-------------------+---------------------------------+-------------+--------------------+--------------------+--------------------+---------------------------+\n",
      "|  063520271|     71|       06099527|Medical Incident|2006-12-18T00:00:...|2006-12-18T00:00:...|2006-12-18T16:30:...|2006-12-18T16:32:...|2006-12-18T16:33:...|                NULL|                NULL|          NULL|         NULL|                 Other|                NULL|TAYLOR ST/JEFFERS...|  SF|              94133|      B01|          28|0945|                E|       E|             3|   false|           NULL|               1|    MEDIC|                             4|                       1|                  3|                      North Beach| 063520271-71|POINT (-122.4158 ...|2024-02-05T03:27:...|2024-02-05T10:56:...|                         23|\n",
      "|  063530078|    E36|       06099669|          Alarms|2006-12-19T00:00:...|2006-12-19T00:00:...|2006-12-19T08:39:...|2006-12-19T08:40:...|2006-12-19T08:40:...|2006-12-19T08:42:...|2006-12-19T08:44:...|          NULL|         NULL|                 Other|2006-12-19T08:56:...|    LAGUNA ST/IVY ST|  SF|              94102|      B02|          36|3413|                3|       3|             3|    true|           NULL|               1|   ENGINE|                             1|                       2|                  5|                     Hayes Valley|063530078-E36|POINT (-122.42636...|2024-02-05T03:27:...|2024-02-05T10:56:...|                          9|\n",
      "|  063530311|    M13|       06099836|Medical Incident|2006-12-19T00:00:...|2006-12-19T00:00:...|2006-12-19T19:49:...|2006-12-19T19:52:...|2006-12-19T19:52:...|                NULL|                NULL|          NULL|         NULL|                 Other|2006-12-19T19:54:...| AVENUE D/09TH TI ST|  TI|              94130|      B03|          48|2931|                3|       3|             3|    true|           NULL|               1|    MEDIC|                             3|                    None|                  6|                  Treasure Island|063530311-M13|POINT (-122.37266...|2024-02-05T03:27:...|2024-02-05T10:56:...|                         37|\n",
      "|  063540281|    T10|       06100040|          Alarms|2006-12-20T00:00:...|2006-12-20T00:00:...|2006-12-20T16:06:...|2006-12-20T16:07:...|2006-12-20T16:07:...|                NULL|                NULL|          NULL|         NULL|                 Other|2006-12-20T16:08:...|   ERKSON CT/POST ST|  SF|              94115|      B04|          10|4131|                3|       3|             3|   false|           NULL|               1|    TRUCK|                             3|                       5|                  5|                        Japantown|063540281-T10|POINT (-122.44015...|2024-02-05T03:27:...|2024-02-05T10:56:...|                         15|\n",
      "|  063560404|    E35|       06100734|          Alarms|2006-12-22T00:00:...|2006-12-22T00:00:...|2006-12-22T23:14:...|2006-12-22T23:17:...|2006-12-22T23:18:...|                NULL|                NULL|          NULL|         NULL|                 Other|2006-12-22T23:20:...|STEVENSON ST/05TH ST|  SF|              94103|      B03|          01|2212|                3|       3|             3|   false|           NULL|               1|   ENGINE|                             3|                       3|                  6|                  South of Market|063560404-E35|POINT (-122.40748...|2024-02-05T03:27:...|2024-02-05T10:56:...|                         34|\n",
      "|  063570023|    M14|       06100764|Medical Incident|2006-12-23T00:00:...|2006-12-22T00:00:...|2006-12-23T01:13:...|2006-12-23T01:16:...|2006-12-23T01:17:...|2006-12-23T01:19:...|                NULL|          NULL|         NULL|                 Other|                NULL| 48TH AVE/KIRKHAM ST|  SF|              94122|      B08|          23|7723|                1|       1|             2|    true|           NULL|               1|    MEDIC|                             2|                       8|                  4|                  Sunset/Parkside|063570023-M14|POINT (-122.50793...|2024-02-05T03:27:...|2024-02-05T10:56:...|                         35|\n",
      "|  063600060|    M13|       06101579|Medical Incident|2006-12-26T00:00:...|2006-12-25T00:00:...|2006-12-26T06:22:...|2006-12-26T06:24:...|2006-12-26T06:25:...|                NULL|                NULL|          NULL|         NULL|                 Other|2006-12-26T06:30:...|CALIFORNIA ST/SCO...|  SF|              94115|      B04|          38|4125|                3|       3|             3|    true|           NULL|               1|    MEDIC|                             3|                       4|                  2|                  Pacific Heights|063600060-M13|POINT (-122.43877...|2024-02-05T03:27:...|2024-02-05T10:56:...|                         30|\n",
      "|  063600290|    T12|       06101737|Medical Incident|2006-12-26T00:00:...|2006-12-26T00:00:...|2006-12-26T17:58:...|2006-12-26T18:00:...|2006-12-26T18:00:...|                NULL|                NULL|          NULL|         NULL|                 Other|                NULL|UPPER TER/MONUMEN...|  SF|              94117|      B05|          12|5165|                3|       3|             3|   false|           NULL|               1|    TRUCK|                             2|                       5|                  8|                   Haight Ashbury|063600290-T12|POINT (-122.44629...|2024-02-05T03:27:...|2024-02-05T10:56:...|                          3|\n",
      "|  063610070|    T16|       06101850|           Other|2006-12-27T00:00:...|2006-12-26T00:00:...|2006-12-27T05:38:...|2006-12-27T05:40:...|2006-12-27T05:40:...|2006-12-27T05:42:...|2006-12-27T05:45:...|          NULL|         NULL|                 Other|2006-12-27T06:08:...|LAGUNA ST/LOMBARD ST|  SF|              94123|      B04|          16|3352|                3|       3|             3|   false|           NULL|               1|    TRUCK|                             1|                       4|                  2|                           Marina|063610070-T16|POINT (-122.43111...|2024-02-05T03:27:...|2024-02-05T10:56:...|                         13|\n",
      "|  063640354|     87|       06102991|Medical Incident|2006-12-30T00:00:...|2006-12-30T00:00:...|2006-12-30T22:27:...|2006-12-30T22:30:...|2006-12-30T22:30:...|                NULL|                NULL|          NULL|         NULL|                 Other|2006-12-30T22:51:...|    06TH ST/MINNA ST|  SF|              94103|      B03|          01|2251|                3|       3|             3|    true|           NULL|               1|    MEDIC|                             3|                       3|                  6|                  South of Market| 063640354-87|POINT (-122.40816...|2024-02-05T03:27:...|2024-02-05T10:56:...|                         34|\n",
      "+-----------+-------+---------------+----------------+--------------------+--------------------+--------------------+--------------------+--------------------+--------------------+--------------------+--------------+-------------+----------------------+--------------------+--------------------+----+-------------------+---------+------------+----+-----------------+--------+--------------+--------+---------------+----------------+---------+------------------------------+------------------------+-------------------+---------------------------------+-------------+--------------------+--------------------+--------------------+---------------------------+\n",
      "only showing top 10 rows\n"
     ]
    },
    {
     "name": "stderr",
     "output_type": "stream",
     "text": [
      "25/08/16 11:23:23 WARN SparkStringUtils: Truncated the string representation of a plan since it was too large. This behavior can be adjusted by setting 'spark.sql.debug.maxToStringFields'.\n"
     ]
    }
   ],
   "source": [
    "nuek_df.show(10)"
   ]
  },
  {
   "cell_type": "markdown",
   "id": "39610efe",
   "metadata": {},
   "source": [
    "## фільтрація"
   ]
  },
  {
   "cell_type": "code",
   "execution_count": 7,
   "id": "dcab2827",
   "metadata": {},
   "outputs": [
    {
     "data": {
      "text/plain": [
       "16"
      ]
     },
     "execution_count": 7,
     "metadata": {},
     "output_type": "execute_result"
    }
   ],
   "source": [
    "nuek_df.select('call_type').where(col(\"call_type\").isNotNull()).distinct().count()"
   ]
  },
  {
   "cell_type": "code",
   "execution_count": 8,
   "id": "20a21d86",
   "metadata": {},
   "outputs": [],
   "source": [
    "# Створюємо тимчасове представлення для виконання SQL-запитів\n",
    "nuek_df.createTempView(\"nuek_view\")\n",
    "# Виконуємо SQL-маніпуляції\n",
    "df = spark.sql(\"\"\"SELECT COUNT(DISTINCT call_type) as count\n",
    "                    FROM nuek_view \n",
    "                    WHERE call_type IS NOT NULL\"\"\")"
   ]
  },
  {
   "cell_type": "code",
   "execution_count": 9,
   "id": "235694c8",
   "metadata": {},
   "outputs": [
    {
     "name": "stdout",
     "output_type": "stream",
     "text": [
      "+-----+\n",
      "|count|\n",
      "+-----+\n",
      "|   16|\n",
      "+-----+\n",
      "\n"
     ]
    }
   ],
   "source": [
    "df.show()"
   ]
  },
  {
   "cell_type": "code",
   "execution_count": 10,
   "id": "3251f272",
   "metadata": {},
   "outputs": [
    {
     "name": "stdout",
     "output_type": "stream",
     "text": [
      "[Row(count=16)] <class 'list'>\n",
      "16\n",
      "16\n",
      "Row(count=16)\n"
     ]
    }
   ],
   "source": [
    "# Витягуємо дані колонки з датафрейму\n",
    "print(df.collect(), type(df.collect()))\n",
    "# Дотягуємось до самого значення за номером рядка та іменем колонки\n",
    "print(df.collect()[0]['count'])\n",
    "# або за номером рядка та номером колонки\n",
    "print(df.collect()[0][0])\n",
    "# first() повертає перший рядок датафрейму\n",
    "print(df.first())"
   ]
  },
  {
   "cell_type": "markdown",
   "id": "78a06083",
   "metadata": {},
   "source": [
    "## агрегація"
   ]
  },
  {
   "cell_type": "code",
   "execution_count": 11,
   "id": "6640988a",
   "metadata": {},
   "outputs": [
    {
     "name": "stdout",
     "output_type": "stream",
     "text": [
      "+----------------+-----+\n",
      "|       call_type|count|\n",
      "+----------------+-----+\n",
      "|          Alarms|  584|\n",
      "|Medical Incident|  206|\n",
      "|           Other|  128|\n",
      "+----------------+-----+\n",
      "\n"
     ]
    }
   ],
   "source": [
    "nuek_df.groupBy('call_type').count().orderBy(col('count').desc()).limit(3).show()"
   ]
  },
  {
   "cell_type": "code",
   "execution_count": 12,
   "id": "016300b4",
   "metadata": {},
   "outputs": [
    {
     "name": "stdout",
     "output_type": "stream",
     "text": [
      "+----------------+-----+\n",
      "|       call_type|count|\n",
      "+----------------+-----+\n",
      "|          Alarms|  584|\n",
      "|Medical Incident|  206|\n",
      "|           Other|  128|\n",
      "+----------------+-----+\n",
      "\n"
     ]
    }
   ],
   "source": [
    "spark.sql(\"\"\"SELECT call_type, COUNT(call_type) as count \n",
    "                    FROM nuek_view \n",
    "                    GROUP BY call_type \n",
    "                    ORDER BY count DESC\n",
    "                    LIMIT 3\"\"\").show()"
   ]
  },
  {
   "cell_type": "code",
   "execution_count": 13,
   "id": "521d95b2",
   "metadata": {},
   "outputs": [],
   "source": [
    "df_times = (nuek_df.select(\"received_dttm\", \"response_dttm\")\n",
    "    .withColumn(\"received_dttm\", col(\"received_dttm\").cast(TimestampType()))\n",
    "    .withColumn(\"response_dttm\", col(\"response_dttm\").cast(TimestampType()))\n",
    "    .withColumn(\"delay_s\", unix_timestamp(col(\"response_dttm\")) - unix_timestamp(col(\"received_dttm\"))))"
   ]
  },
  {
   "cell_type": "code",
   "execution_count": 14,
   "id": "3c54dd78",
   "metadata": {},
   "outputs": [
    {
     "name": "stdout",
     "output_type": "stream",
     "text": [
      "+------+----------------+------------+---------+---------+-----------------+----------+------------------+\n",
      "|total_|delayed_not_null|delayed_null|min_delay|max_delay|        avg_delay|avg_zeroed|      avg_replaced|\n",
      "+------+----------------+------------+---------+---------+-----------------+----------+------------------+\n",
      "|  1000|             747|         253|        0|     1646|220.0615796519411|   164.386|220.06155950000144|\n",
      "+------+----------------+------------+---------+---------+-----------------+----------+------------------+\n",
      "\n"
     ]
    }
   ],
   "source": [
    "df_times.groupby().agg(\n",
    "    count(\"*\").alias(\"total_\"),\n",
    "    count_if(col(\"delay_s\").isNotNull()).alias(\"delayed_not_null\"),\n",
    "    count_if(col(\"delay_s\").isNull()).alias(\"delayed_null\"),\n",
    "    min(col(\"delay_s\")).alias(\"min_delay\"),\n",
    "    max(col(\"delay_s\")).alias(\"max_delay\"),\n",
    "    avg(\n",
    "        col(\"delay_s\")\n",
    "    ).alias(\"avg_delay\"),\n",
    "    avg(\n",
    "        when(col(\"delay_s\").isNotNull(), col(\"delay_s\")).otherwise(0)\n",
    "    ).alias(\"avg_zeroed\"),\n",
    "    avg(\n",
    "        when(col(\"delay_s\").isNotNull(), col(\"delay_s\")).otherwise(220.0615)\n",
    "    ).alias(\"avg_replaced\")\n",
    ").show(10)"
   ]
  },
  {
   "cell_type": "markdown",
   "id": "7f4a1dea",
   "metadata": {},
   "source": [
    "## join"
   ]
  },
  {
   "cell_type": "code",
   "execution_count": 15,
   "id": "30a99c84",
   "metadata": {},
   "outputs": [],
   "source": [
    "from pyspark.sql.functions import collect_list, col, array_union, array_distinct"
   ]
  },
  {
   "cell_type": "code",
   "execution_count": 16,
   "id": "579f5e5d",
   "metadata": {},
   "outputs": [
    {
     "name": "stderr",
     "output_type": "stream",
     "text": [
      "25/08/16 11:23:25 WARN Column: Constructing trivially true equals predicate, 'zipcode_of_incident == zipcode_of_incident'. Perhaps you need to use aliases.\n"
     ]
    },
    {
     "name": "stdout",
     "output_type": "stream",
     "text": [
      "+-------------------+--------------------+--------------------+--------------------+---------------------+\n",
      "|zipcode_of_incident|   station_area_list| station_area_list_1| station_area_united|station_area_distinct|\n",
      "+-------------------+--------------------+--------------------+--------------------+---------------------+\n",
      "|              94102|[01, 01, 01, 03, ...|[03, 05, 41, 01, ...|[01, 03, 05, 36, 41]| [01, 03, 05, 36, 41]|\n",
      "|              94107|[01, 01, 01, 04, ...|[04, 25, 37, 01, ...|[01, 04, 08, 25, ...| [01, 04, 08, 25, ...|\n",
      "|              94131|[11, 11, 12, 12, ...|[12, 20, 11, 20, ...|    [11, 12, 20, 26]|     [11, 12, 20, 26]|\n",
      "|              94112|[15, 15, 15, 32, ...|[32, 33, 43, 15, ...|    [15, 32, 33, 43]|     [15, 32, 33, 43]|\n",
      "|              94103|[01, 01, 01, 01, ...|[06, 07, 08, 29, ...|[01, 06, 07, 08, ...| [01, 06, 07, 08, ...|\n",
      "|              94118|    [10, 21, 31, 31]|    [31, 31, 10, 21]|        [10, 21, 31]|         [10, 21, 31]|\n",
      "|              94117|[05, 05, 05, 06, ...|[06, 12, 21, 05, ...|    [05, 06, 12, 21]|     [05, 06, 12, 21]|\n",
      "|              94129|            [31, 51]|            [51, 31]|            [31, 51]|             [31, 51]|\n",
      "|              94109|[03, 03, 03, 05, ...|[16, 28, 38, 03, ...|[03, 05, 16, 28, ...| [03, 05, 16, 28, ...|\n",
      "|              94132|            [19, 33]|            [33, 19]|            [19, 33]|             [19, 33]|\n",
      "|              94123|[16, 16, 38, 51, 51]|[38, 51, 51, 16, 38]|        [16, 38, 51]|         [16, 38, 51]|\n",
      "|              94158|    [04, 04, 29, 29]|    [08, 29, 04, 08]|        [04, 29, 08]|         [04, 29, 08]|\n",
      "|              94105|            [13, 35]|            [35, 13]|            [13, 35]|             [13, 35]|\n",
      "|              94111|                [13]|                [28]|            [13, 28]|             [13, 28]|\n",
      "|              94134|[32, 32, 32, 42, ...|[42, 43, 44, 32, ...|    [32, 42, 43, 44]|     [32, 42, 43, 44]|\n",
      "|              94116|[18, 18, 18, 23, ...|[23, 39, 40, 18, ...|    [18, 23, 39, 40]|     [18, 23, 39, 40]|\n",
      "|              94127|            [20, 39]|            [39, 20]|            [20, 39]|             [20, 39]|\n",
      "|              94122|[12, 12, 12, 12, ...|[22, 23, 31, 40, ...|[12, 22, 23, 31, 40]| [12, 22, 23, 31, 40]|\n",
      "|              94124|[17, 17, 17, 17, ...|[25, 42, 44, 47, ...|[17, 25, 42, 44, 47]| [17, 25, 42, 44, 47]|\n",
      "|              94114|[06, 06, 06, 07, ...|[07, 11, 24, 24, ...|    [06, 07, 11, 24]|     [06, 07, 11, 24]|\n",
      "+-------------------+--------------------+--------------------+--------------------+---------------------+\n",
      "only showing top 20 rows\n"
     ]
    }
   ],
   "source": [
    "zip_station = (nuek_df.select('zipcode_of_incident', 'station_area')\n",
    "    .withColumnRenamed(\"station_area\", \"station_area_1\"))\n",
    "\n",
    "(nuek_df.join(zip_station, nuek_df.zipcode_of_incident == zip_station.zipcode_of_incident, 'inner')\n",
    "      .drop(zip_station.zipcode_of_incident)\n",
    "      .select('zipcode_of_incident', 'station_area', 'station_area_1')\n",
    "      .dropDuplicates(['station_area', 'station_area_1'])\n",
    "      .dropna()\n",
    "      .where(col('station_area') != col('station_area_1'))\n",
    "      .groupBy('zipcode_of_incident')\n",
    "      .agg(\n",
    "          collect_list(\"station_area\").alias(\"station_area_list\"),\n",
    "          collect_list(\"station_area_1\").alias(\"station_area_list_1\")\n",
    "          )\n",
    "      .withColumn(\"station_area_united\", array_union('station_area_list', 'station_area_list_1'))\n",
    "      .withColumn(\"station_area_distinct\", array_distinct('station_area_united'))\n",
    "      .show())"
   ]
  },
  {
   "cell_type": "code",
   "execution_count": 17,
   "id": "7a76486a",
   "metadata": {},
   "outputs": [],
   "source": [
    "# Закриваємо сесію Spark\n",
    "spark.stop()"
   ]
  }
 ],
 "metadata": {
  "kernelspec": {
   "display_name": "venv",
   "language": "python",
   "name": "python3"
  },
  "language_info": {
   "codemirror_mode": {
    "name": "ipython",
    "version": 3
   },
   "file_extension": ".py",
   "mimetype": "text/x-python",
   "name": "python",
   "nbconvert_exporter": "python",
   "pygments_lexer": "ipython3",
   "version": "3.11.3"
  }
 },
 "nbformat": 4,
 "nbformat_minor": 5
}
